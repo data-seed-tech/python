{
 "cells": [
  {
   "cell_type": "code",
   "execution_count": 1,
   "id": "c676595a",
   "metadata": {},
   "outputs": [],
   "source": [
    "import requests\n",
    "import json"
   ]
  },
  {
   "cell_type": "code",
   "execution_count": null,
   "id": "2b76df1c",
   "metadata": {},
   "outputs": [],
   "source": [
    "# GET from SOURCE:\n",
    "SRC_URL = \"https://your-source.site/seed/api/\"\"\n",
    "\n",
    "HEADERS = {\n",
    "    \"Content-type\":\"application/json\", \n",
    "    \"Accept\":\"application/json\"\n",
    "}\n",
    "\n",
    "AUTH=('user', 'password')\n",
    "\n",
    "query = {'table': 'seed_todo'}\n",
    "\n",
    "response = requests.get(url=SRC_URL, params=query, headers=HEADERS, auth=AUTH)\n",
    "\n",
    "print(response.text)"
   ]
  },
  {
   "cell_type": "code",
   "execution_count": null,
   "id": "2fcd4cb7",
   "metadata": {},
   "outputs": [],
   "source": [
    "# extracting the LIST of records from response\n",
    "DEST_JSON = json.loads(response.text)\n",
    "        \n",
    "DEST_JSON"
   ]
  },
  {
   "cell_type": "code",
   "execution_count": null,
   "id": "d7dd0c91",
   "metadata": {},
   "outputs": [],
   "source": [
    "# POST/PUT to DESTINATION:\n",
    "DEST_URL = \"http://localhost/seed/api/\"\n",
    "HEADERS = {\n",
    "    \"Content-type\":\"application/json\", \n",
    "    \"Accept\":\"application/json\"\n",
    "}\n",
    "\n",
    "AUTH=()\n",
    "\n",
    "query = {'table': 'seed_todo'}\n",
    "\n",
    "# INSERT:\n",
    "response = requests.post(url=DEST_URL, params=query, json=DEST_JSON, headers=HEADERS, auth=AUTH)\n",
    "\n",
    "# UPDATE:\n",
    "#response = requests.put(url=DEST_URL, params=query, json=DEST_JSON, headers=HEADERS, auth=AUTH)\n",
    "print(response.text)"
   ]
  }
 ],
 "metadata": {
  "kernelspec": {
   "display_name": "Python 3 (ipykernel)",
   "language": "python",
   "name": "python3"
  },
  "language_info": {
   "codemirror_mode": {
    "name": "ipython",
    "version": 3
   },
   "file_extension": ".py",
   "mimetype": "text/x-python",
   "name": "python",
   "nbconvert_exporter": "python",
   "pygments_lexer": "ipython3",
   "version": "3.9.13"
  }
 },
 "nbformat": 4,
 "nbformat_minor": 5
}
