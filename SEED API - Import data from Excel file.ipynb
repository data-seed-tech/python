{
 "cells": [
  {
   "cell_type": "code",
   "execution_count": null,
   "metadata": {},
   "outputs": [],
   "source": [
    "import openpyxl\n",
    "import requests\n",
    "import json"
   ]
  },
  {
   "cell_type": "code",
   "execution_count": null,
   "metadata": {},
   "outputs": [],
   "source": [
    "HEADERS = {\n",
    "    \"Content-type\":\"application/json\", \n",
    "    \"Accept\":\"application/json\"\n",
    "}\n",
    "AUTH=('user', 'password')"
   ]
  },
  {
   "cell_type": "code",
   "execution_count": null,
   "metadata": {},
   "outputs": [],
   "source": [
    "# 1.  GET data from SOURCE file:\n",
    "loc = \"C:/.../your_excel_file.xlsx\"\n",
    "\n",
    "wb = openpyxl.load_workbook(loc)"
   ]
  },
  {
   "cell_type": "code",
   "execution_count": null,
   "metadata": {},
   "outputs": [],
   "source": [
    "# 2. Building JSON with data taken from Excel:\n",
    "template = '{\"records\":[]}'\n",
    "\n",
    "JSON = json.loads(template)\n",
    "\n",
    "for index, row in enumerate(ws.rows, start=1):\n",
    "    field1 = ws.cell(row=index, column=1).value\n",
    "    field2 = ws.cell(row=index, column=2).value\n",
    "    \n",
    "    record = {}\n",
    "    record['field1'] = field1\n",
    "    record['field2'] = field2\n",
    "    JSON[\"records\"].append(record)\n",
    "        \n",
    "JSON"
   ]
  },
  {
   "cell_type": "code",
   "execution_count": null,
   "metadata": {
    "scrolled": true
   },
   "outputs": [],
   "source": [
    "# 3. POST to DESTINATION:\n",
    "URL = \"https://your-destination.site/seed/api/?table=destination_table\"\n",
    "\n",
    "response = requests.post(url=URL, json=JSON, headers=HEADERS, auth=AUTH)\n",
    "print(response.text)"
   ]
  }
 ],
 "metadata": {
  "kernelspec": {
   "display_name": "Python 3",
   "language": "python",
   "name": "python3"
  },
  "language_info": {
   "codemirror_mode": {
    "name": "ipython",
    "version": 3
   },
   "file_extension": ".py",
   "mimetype": "text/x-python",
   "name": "python",
   "nbconvert_exporter": "python",
   "pygments_lexer": "ipython3",
   "version": "3.10.1"
  }
 },
 "nbformat": 4,
 "nbformat_minor": 4
}
