{
 "cells": [
  {
   "cell_type": "code",
   "execution_count": 1,
   "id": "4d4ec5d0",
   "metadata": {},
   "outputs": [],
   "source": [
    "import requests\n",
    "import json"
   ]
  },
  {
   "cell_type": "code",
   "execution_count": 3,
   "id": "927aaa4d",
   "metadata": {},
   "outputs": [
    {
     "name": "stdout",
     "output_type": "stream",
     "text": [
      "{\"records\":[{\"customerId\":\"1\",\"customerName\":\"AAA. Inc.\"},{\"customerId\":\"2\",\"customerName\":\"BBB Inc.\"}]}\n"
     ]
    }
   ],
   "source": [
    "# 1.  GET data from SOURCE:\n",
    "SRC_URL = \"https://your-source.site/seed-reporting/api/\"\n",
    "HEADERS = {\n",
    "    \"Content-type\":\"application/json\", \n",
    "    \"Accept\":\"application/json\"\n",
    "}\n",
    "\n",
    "AUTH=('user', 'password')\n",
    "\n",
    "query = {'table': 'customers'}\n",
    "\n",
    "response = requests.get(url=SRC_URL, params=query, headers=HEADERS, auth=AUTH)\n",
    "\n",
    "print(response.text)"
   ]
  },
  {
   "cell_type": "code",
   "execution_count": 4,
   "id": "fb11dfbf",
   "metadata": {},
   "outputs": [
    {
     "data": {
      "text/plain": [
       "{'records': [{'customerId': '1', 'customerName': 'AAA. Inc.'},\n",
       "  {'customerId': '2', 'customerName': 'BBB Inc.'}]}"
      ]
     },
     "execution_count": 4,
     "metadata": {},
     "output_type": "execute_result"
    }
   ],
   "source": [
    "# 2. Building JSON for DESTINATION site:\n",
    "\n",
    "# extracting the LIST of records from response\n",
    "li = json.loads(response.text)\n",
    "li = li['records']\n",
    "\n",
    "\n",
    "# building resulting JSON\n",
    "template = '{\"records\":[]}'\n",
    "DEST_JSON = json.loads(template)\n",
    "\n",
    "\n",
    "for src_record in li:\n",
    "    dest_record = {}\n",
    "    dest_record['customerId'] = src_record['customerId']\n",
    "    dest_record['customerName'] = src_record['customerName']\n",
    "    \n",
    "    DEST_JSON[\"records\"].append(dest_record)\n",
    "        \n",
    "DEST_JSON"
   ]
  },
  {
   "cell_type": "code",
   "execution_count": 5,
   "id": "649072ec",
   "metadata": {},
   "outputs": [
    {
     "name": "stdout",
     "output_type": "stream",
     "text": [
      "{\"records\":[{\"ok\":\"UPDATE customers SET customerName = 'AAA. Inc.' WHERE customerId = '1';\"},{\"ok\":\"UPDATE customers SET customerName = 'BBB Inc.' WHERE customerId = '2';\"}]}\n"
     ]
    }
   ],
   "source": [
    "# 3. POST/PUT to DESTINATION:\n",
    "DEST_URL = \"https://your-destination.site/seed-reporting/api/?table=customers\"\n",
    "HEADERS = {\n",
    "    \"Content-type\":\"application/json\", \n",
    "    \"Accept\":\"application/json\"\n",
    "}\n",
    "\n",
    "AUTH=('user', 'password')\n",
    "\n",
    "\n",
    "# INSERT:\n",
    "# response = requests.post(url=DEST_URL, json=DEST_JSON, headers=HEADERS, auth=AUTH)\n",
    "\n",
    "# UPDATE:\n",
    "response = requests.put(url=DEST_URL, json=DEST_JSON, headers=HEADERS, auth=AUTH)\n",
    "print(response.text)"
   ]
  }
 ],
 "metadata": {
  "kernelspec": {
   "display_name": "Python 3",
   "language": "python",
   "name": "python3"
  },
  "language_info": {
   "codemirror_mode": {
    "name": "ipython",
    "version": 3
   },
   "file_extension": ".py",
   "mimetype": "text/x-python",
   "name": "python",
   "nbconvert_exporter": "python",
   "pygments_lexer": "ipython3",
   "version": "3.10.1"
  }
 },
 "nbformat": 4,
 "nbformat_minor": 5
}
